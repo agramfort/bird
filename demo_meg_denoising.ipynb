{
 "metadata": {
  "language_info": {
   "codemirror_mode": {
    "name": "ipython",
    "version": 3
   },
   "file_extension": ".py",
   "mimetype": "text/x-python",
   "name": "python",
   "nbconvert_exporter": "python",
   "pygments_lexer": "ipython3",
   "version": "3.8.5-final"
  },
  "orig_nbformat": 2,
  "kernelspec": {
   "name": "python3",
   "display_name": "Python 3",
   "language": "python"
  }
 },
 "nbformat": 4,
 "nbformat_minor": 2,
 "cells": [
  {
   "cell_type": "code",
   "execution_count": null,
   "metadata": {},
   "outputs": [],
   "source": [
    "from scipy import linalg\n",
    "from meeg_tools import simu_meg\n",
    "from bird import bird, s_bird\n",
    "from joblib import Memory\n",
    "%matplotlib inline\n",
    "import matplotlib.pyplot as plt"
   ]
  },
  {
   "cell_type": "code",
   "execution_count": null,
   "metadata": {},
   "outputs": [],
   "source": [
    "white = True  # change to True/False for white/pink noise\n",
    "\n",
    "scales = [8, 16, 32, 64, 128]\n",
    "n_runs = 30\n",
    "\n",
    "# Structured sparsity parameters\n",
    "n_channels = 20 # Set this value to 20 to reproduce figures from the paper\n",
    "p_active = 1.\n",
    "\n",
    "random_state = 42\n",
    "\n",
    "# Reference true data\n",
    "# Note : due to some changes in MNE, simulated data is no longer \n",
    "# parameterized using explicit SNR values, but rather using the NAVE parameter\n",
    "# Look up some documentation there: https://mne.tools/dev/generated/mne.simulation.simulate_evoked.html#mne.simulation.simulate_evoked\n",
    "seed = 42\n",
    "evoked_no_noise = simu_meg(nave=10000, white=True, seed=seed)\n",
    "single_no_noise = evoked_no_noise.data[:n_channels, :]\n",
    "\n",
    "plt.plot(single_no_noise.T)\n"
   ]
  },
  {
   "cell_type": "code",
   "execution_count": null,
   "metadata": {},
   "outputs": [],
   "source": [
    "\n",
    "# noisy simulation : to simulate a SNR of approximately 10\n",
    "# we use 10 times less averaged epochs (nave parameter set to 2000)\n",
    "evoked_noise = simu_meg(nave=2000, white=white, seed=seed)\n",
    "single_noise = evoked_noise.data[:n_channels, :]\n",
    "\n",
    "n_jobs = 1  # set to -1 to run in parellel\n",
    "memory = Memory(None)\n",
    "p_above = 1e-8\n",
    "bird_estimate = bird(single_noise, scales, n_runs, p_above=p_above,\n",
    "                        random_state=random_state, n_jobs=n_jobs,\n",
    "                        memory=memory)\n",
    "sbird_estimate = s_bird(single_noise, scales, n_runs, p_above=p_above,\n",
    "                        p_active=p_active, random_state=random_state,\n",
    "                        n_jobs=n_jobs, memory=memory)\n",
    "\n",
    "print(\"RMSE BIRD : %s\" % linalg.norm(bird_estimate - single_noise))\n",
    "print(\"RMSE S-BIRD : %s\" % linalg.norm(sbird_estimate - single_noise))\n",
    "\n",
    "subset = range(1, n_channels, 2)\n",
    "start = 100  # make time start at 0\n",
    "\n",
    "# now displaying\n",
    "plt.figure(figsize=(7, 5))\n",
    "p1 = plt.plot(1e3 * evoked_no_noise.times[start:],\n",
    "                single_noise[subset, start:].T, 'k:', alpha=0.5)\n",
    "p2 = plt.plot(1e3 * evoked_no_noise.times[start:],\n",
    "                single_no_noise[subset, start:].T, 'r:', linewidth=1.5)\n",
    "p3 = plt.plot(1e3 * evoked_no_noise.times[start:],\n",
    "                bird_estimate[subset, start:].T, 'k-', linewidth=1.5)\n",
    "p4 = plt.plot(1e3 * evoked_no_noise.times[start:],\n",
    "                sbird_estimate[subset, start:].T, 'm-', linewidth=1.5)\n",
    "\n",
    "plt.legend((p1[0], p2[0], p3[0], p4[0]),\n",
    "            ('Noisy', 'Clean', 'BIRD Estimates', 'S-BIRD Estimates'),\n",
    "            loc='upper right')\n",
    "\n",
    "plt.xlabel('Time (ms)')\n",
    "plt.ylabel('MEG')\n",
    "plt.ylim([-1.5e-12, 2.5e-12])\n",
    "plt.show()"
   ]
  }
 ]
}